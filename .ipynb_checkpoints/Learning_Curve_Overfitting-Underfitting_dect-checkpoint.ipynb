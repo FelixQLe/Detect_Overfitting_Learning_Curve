{
 "cells": [
  {
   "cell_type": "markdown",
   "id": "ef72ee46",
   "metadata": {},
   "source": [
    "### Learning Curves\n",
    "\n",
    "Learning Curves are plots of model learning performance over time, identify if our model was Overfitting or Underfitting. \n",
    "\n",
    "After a number of iterations, the training error is getting better, however. the validation error is not improving, that a clear sign that the model is overfitting. If Validation and training error high, then the model is Underfitting."
   ]
  },
  {
   "cell_type": "markdown",
   "id": "fc68ef69",
   "metadata": {},
   "source": [
    "We will build regression model predicts the hourly electrical energy output of power plant. \n",
    "Data used come from https://archive.ics.uci.edu/ml/datasets/combined+cycle+power+plant\n"
   ]
  },
  {
   "cell_type": "code",
   "execution_count": 1,
   "id": "9c891a81",
   "metadata": {},
   "outputs": [],
   "source": [
    "#importing python package\n",
    "import pandas as pd\n",
    "from sklearn.linear_model import LinearRegression\n",
    "from sklearn.model_selection import learning_curve"
   ]
  },
  {
   "cell_type": "code",
   "execution_count": 5,
   "id": "472aabc4",
   "metadata": {},
   "outputs": [
    {
     "name": "stdout",
     "output_type": "stream",
     "text": [
      "<class 'pandas.core.frame.DataFrame'>\n",
      "RangeIndex: 9568 entries, 0 to 9567\n",
      "Data columns (total 5 columns):\n",
      " #   Column  Non-Null Count  Dtype  \n",
      "---  ------  --------------  -----  \n",
      " 0   AT      9568 non-null   float64\n",
      " 1   V       9568 non-null   float64\n",
      " 2   AP      9568 non-null   float64\n",
      " 3   RH      9568 non-null   float64\n",
      " 4   PE      9568 non-null   float64\n",
      "dtypes: float64(5)\n",
      "memory usage: 373.9 KB\n"
     ]
    }
   ],
   "source": [
    "#reading data\n",
    "electric_outputs = pd.read_excel('CCPP/Folds5x2_pp.xlsx')\n",
    "electric_outputs.info()"
   ]
  },
  {
   "cell_type": "code",
   "execution_count": 6,
   "id": "b84ed382",
   "metadata": {},
   "outputs": [
    {
     "data": {
      "text/html": [
       "<div>\n",
       "<style scoped>\n",
       "    .dataframe tbody tr th:only-of-type {\n",
       "        vertical-align: middle;\n",
       "    }\n",
       "\n",
       "    .dataframe tbody tr th {\n",
       "        vertical-align: top;\n",
       "    }\n",
       "\n",
       "    .dataframe thead th {\n",
       "        text-align: right;\n",
       "    }\n",
       "</style>\n",
       "<table border=\"1\" class=\"dataframe\">\n",
       "  <thead>\n",
       "    <tr style=\"text-align: right;\">\n",
       "      <th></th>\n",
       "      <th>AT</th>\n",
       "      <th>V</th>\n",
       "      <th>AP</th>\n",
       "      <th>RH</th>\n",
       "      <th>PE</th>\n",
       "    </tr>\n",
       "  </thead>\n",
       "  <tbody>\n",
       "    <tr>\n",
       "      <th>0</th>\n",
       "      <td>14.96</td>\n",
       "      <td>41.76</td>\n",
       "      <td>1024.07</td>\n",
       "      <td>73.17</td>\n",
       "      <td>463.26</td>\n",
       "    </tr>\n",
       "    <tr>\n",
       "      <th>1</th>\n",
       "      <td>25.18</td>\n",
       "      <td>62.96</td>\n",
       "      <td>1020.04</td>\n",
       "      <td>59.08</td>\n",
       "      <td>444.37</td>\n",
       "    </tr>\n",
       "    <tr>\n",
       "      <th>2</th>\n",
       "      <td>5.11</td>\n",
       "      <td>39.40</td>\n",
       "      <td>1012.16</td>\n",
       "      <td>92.14</td>\n",
       "      <td>488.56</td>\n",
       "    </tr>\n",
       "    <tr>\n",
       "      <th>3</th>\n",
       "      <td>20.86</td>\n",
       "      <td>57.32</td>\n",
       "      <td>1010.24</td>\n",
       "      <td>76.64</td>\n",
       "      <td>446.48</td>\n",
       "    </tr>\n",
       "    <tr>\n",
       "      <th>4</th>\n",
       "      <td>10.82</td>\n",
       "      <td>37.50</td>\n",
       "      <td>1009.23</td>\n",
       "      <td>96.62</td>\n",
       "      <td>473.90</td>\n",
       "    </tr>\n",
       "  </tbody>\n",
       "</table>\n",
       "</div>"
      ],
      "text/plain": [
       "      AT      V       AP     RH      PE\n",
       "0  14.96  41.76  1024.07  73.17  463.26\n",
       "1  25.18  62.96  1020.04  59.08  444.37\n",
       "2   5.11  39.40  1012.16  92.14  488.56\n",
       "3  20.86  57.32  1010.24  76.64  446.48\n",
       "4  10.82  37.50  1009.23  96.62  473.90"
      ]
     },
     "execution_count": 6,
     "metadata": {},
     "output_type": "execute_result"
    }
   ],
   "source": [
    "electric_outputs.head(5)"
   ]
  },
  {
   "cell_type": "code",
   "execution_count": 11,
   "id": "a3f3f0b7",
   "metadata": {},
   "outputs": [],
   "source": [
    "#let update column names of those Abbreviation by full name\n",
    "electric_outputs.rename(columns={'AT': 'Ambiental Temp', 'V': 'Exhaust Vacuum',\n",
    "                                'AP': 'Ambiental Pressure', 'RH': 'Relavite Humid',\n",
    "                                'PE': 'Electrical Energy Output'}, inplace=True)"
   ]
  },
  {
   "cell_type": "code",
   "execution_count": 13,
   "id": "457c00d8",
   "metadata": {},
   "outputs": [
    {
     "data": {
      "text/html": [
       "<div>\n",
       "<style scoped>\n",
       "    .dataframe tbody tr th:only-of-type {\n",
       "        vertical-align: middle;\n",
       "    }\n",
       "\n",
       "    .dataframe tbody tr th {\n",
       "        vertical-align: top;\n",
       "    }\n",
       "\n",
       "    .dataframe thead th {\n",
       "        text-align: right;\n",
       "    }\n",
       "</style>\n",
       "<table border=\"1\" class=\"dataframe\">\n",
       "  <thead>\n",
       "    <tr style=\"text-align: right;\">\n",
       "      <th></th>\n",
       "      <th>Ambiental Temp</th>\n",
       "      <th>Exhaust Vacuum</th>\n",
       "      <th>Ambiental Pressure</th>\n",
       "      <th>Relavite Humid</th>\n",
       "      <th>Electrical Energy Output</th>\n",
       "    </tr>\n",
       "  </thead>\n",
       "  <tbody>\n",
       "    <tr>\n",
       "      <th>0</th>\n",
       "      <td>14.96</td>\n",
       "      <td>41.76</td>\n",
       "      <td>1024.07</td>\n",
       "      <td>73.17</td>\n",
       "      <td>463.26</td>\n",
       "    </tr>\n",
       "    <tr>\n",
       "      <th>1</th>\n",
       "      <td>25.18</td>\n",
       "      <td>62.96</td>\n",
       "      <td>1020.04</td>\n",
       "      <td>59.08</td>\n",
       "      <td>444.37</td>\n",
       "    </tr>\n",
       "    <tr>\n",
       "      <th>2</th>\n",
       "      <td>5.11</td>\n",
       "      <td>39.40</td>\n",
       "      <td>1012.16</td>\n",
       "      <td>92.14</td>\n",
       "      <td>488.56</td>\n",
       "    </tr>\n",
       "    <tr>\n",
       "      <th>3</th>\n",
       "      <td>20.86</td>\n",
       "      <td>57.32</td>\n",
       "      <td>1010.24</td>\n",
       "      <td>76.64</td>\n",
       "      <td>446.48</td>\n",
       "    </tr>\n",
       "    <tr>\n",
       "      <th>4</th>\n",
       "      <td>10.82</td>\n",
       "      <td>37.50</td>\n",
       "      <td>1009.23</td>\n",
       "      <td>96.62</td>\n",
       "      <td>473.90</td>\n",
       "    </tr>\n",
       "  </tbody>\n",
       "</table>\n",
       "</div>"
      ],
      "text/plain": [
       "   Ambiental Temp  Exhaust Vacuum  Ambiental Pressure  Relavite Humid  \\\n",
       "0           14.96           41.76             1024.07           73.17   \n",
       "1           25.18           62.96             1020.04           59.08   \n",
       "2            5.11           39.40             1012.16           92.14   \n",
       "3           20.86           57.32             1010.24           76.64   \n",
       "4           10.82           37.50             1009.23           96.62   \n",
       "\n",
       "   Electrical Energy Output  \n",
       "0                    463.26  \n",
       "1                    444.37  \n",
       "2                    488.56  \n",
       "3                    446.48  \n",
       "4                    473.90  "
      ]
     },
     "execution_count": 13,
     "metadata": {},
     "output_type": "execute_result"
    }
   ],
   "source": [
    "electric_outputs.head(5)"
   ]
  },
  {
   "cell_type": "code",
   "execution_count": 29,
   "id": "469fef32",
   "metadata": {},
   "outputs": [],
   "source": [
    "#training size for generating the learning curves, \n",
    "#maximum size must less than equal to training set 80% of dataset\n",
    "#its good practice to limit to 5-10 training sizes\n",
    "training_sizes = [1, 100, 500, 2000, 5000, 7650]"
   ]
  },
  {
   "cell_type": "code",
   "execution_count": 30,
   "id": "114a08ce",
   "metadata": {},
   "outputs": [],
   "source": [
    "#independent variables and target\n",
    "features = list(electric_outputs.drop(columns=\"Electrical Energy Output\").columns)\n",
    "target = \"Electrical Energy Output\"\n",
    "#implement learning from imported python package\n",
    "train_sizes, train_scores, validation_scores = learning_curve(\n",
    "                                    estimator=LinearRegression(),#using Linear Regression as learning algorithm\n",
    "                                    X = electric_outputs[features],# dataset excluded target\n",
    "                                    y = electric_outputs[target],#target variable\n",
    "                                    train_sizes=training_sizes,\n",
    "                                    cv = 5, #determines cross-validation splitting strategy\n",
    "                                    scoring='neg_mean_squared_error', #error metric evaluation\n",
    "                                    )"
   ]
  },
  {
   "cell_type": "code",
   "execution_count": 31,
   "id": "9b3b8ea1",
   "metadata": {},
   "outputs": [
    {
     "name": "stdout",
     "output_type": "stream",
     "text": [
      "Training scores:\n",
      "\n",
      " [[ -0.          -0.          -0.          -0.          -0.        ]\n",
      " [-19.71230701 -18.31492642 -18.31492642 -18.31492642 -18.31492642]\n",
      " [-18.14420459 -19.63885072 -19.63885072 -19.63885072 -19.63885072]\n",
      " [-21.53603444 -20.18568787 -19.98317419 -19.98317419 -19.98317419]\n",
      " [-20.47708899 -19.93364211 -20.56091569 -20.4150839  -20.4150839 ]\n",
      " [-20.98600946 -20.63033618 -21.04415862 -20.63671622 -20.52664106]]\n",
      "\n",
      " ----------------------------------------------------------------------\n",
      "\n",
      "Validation scores:\n",
      "\n",
      " [[-619.30514723 -379.81090366 -374.4107861  -370.03037109 -373.30597982]\n",
      " [ -21.80224219  -23.01103419  -20.81350389  -22.88459236  -23.44955492]\n",
      " [ -19.96005238  -21.2771561   -19.75136596  -21.4325615   -21.89067652]\n",
      " [ -19.92863783  -21.35440062  -19.62974239  -21.38631648  -21.811031  ]\n",
      " [ -19.88806264  -21.3183303   -19.68228562  -21.35019525  -21.75949097]\n",
      " [ -19.9043932   -21.33368364  -19.67839166  -21.31982496  -21.73829523]]\n"
     ]
    }
   ],
   "source": [
    "#exam the training score, and validation scores\n",
    "print('Training scores:\\n\\n', train_scores)\n",
    "print('\\n', '-' * 70) # separator to make the output easy to read\n",
    "print('\\nValidation scores:\\n\\n', validation_scores)"
   ]
  },
  {
   "cell_type": "markdown",
   "id": "8eb0a615",
   "metadata": {},
   "source": [
    "We have 6 lists in every list trainning scores and validation scores, indicates 6 training set sizes we set above, and we also set 5 k-fold for cross-validation metric."
   ]
  },
  {
   "cell_type": "code",
   "execution_count": 32,
   "id": "db0ecba8",
   "metadata": {},
   "outputs": [
    {
     "name": "stdout",
     "output_type": "stream",
     "text": [
      "Mean training scores\n",
      "\n",
      " 1       -0.000000\n",
      "100     18.594403\n",
      "500     19.339921\n",
      "2000    20.334249\n",
      "5000    20.360363\n",
      "7650    20.764772\n",
      "dtype: float64\n",
      "\n",
      " --------------------\n",
      "\n",
      "Mean validation scores\n",
      "\n",
      " 1       423.372638\n",
      "100      22.392186\n",
      "500      20.862362\n",
      "2000     20.822026\n",
      "5000     20.799673\n",
      "7650     20.794918\n",
      "dtype: float64\n"
     ]
    }
   ],
   "source": [
    "#plotting learning curves using single error score per training size\n",
    "train_scores_mean = -train_scores.mean(axis = 1) #using positive values to plot\n",
    "validation_scores_mean = -validation_scores.mean(axis = 1)\n",
    "print('Mean training scores\\n\\n', pd.Series(train_scores_mean, index = train_sizes))\n",
    "print('\\n', '-' * 20) # separator\n",
    "print('\\nMean validation scores\\n\\n',pd.Series(validation_scores_mean, index = train_sizes))"
   ]
  },
  {
   "cell_type": "code",
   "execution_count": null,
   "id": "3b13f569",
   "metadata": {},
   "outputs": [],
   "source": []
  }
 ],
 "metadata": {
  "kernelspec": {
   "display_name": "Python 3.9 (tensorflow)",
   "language": "python",
   "name": "tensorflow"
  },
  "language_info": {
   "codemirror_mode": {
    "name": "ipython",
    "version": 3
   },
   "file_extension": ".py",
   "mimetype": "text/x-python",
   "name": "python",
   "nbconvert_exporter": "python",
   "pygments_lexer": "ipython3",
   "version": "3.9.13"
  }
 },
 "nbformat": 4,
 "nbformat_minor": 5
}
