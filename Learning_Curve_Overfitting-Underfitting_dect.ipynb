{
 "cells": [
  {
   "cell_type": "markdown",
   "id": "fe604054",
   "metadata": {},
   "source": [
    "### Learning Curves\n",
    "\n",
    "Learning Curves are plots of model learning performance over time, identify if our model was Overfitting or Underfitting. \n",
    "\n",
    "After a number of iterations, the training error is getting better, however. the validation error is not improving, that a clear sign that the model is overfitting. If Validation and training error high, then the model is Underfitting."
   ]
  },
  {
   "cell_type": "code",
   "execution_count": null,
   "id": "69c3cdbf",
   "metadata": {},
   "outputs": [],
   "source": [
    "\"\"\"\n",
    "\n",
    "\"\"\""
   ]
  }
 ],
 "metadata": {
  "kernelspec": {
   "display_name": "Python 3.9 (tensorflow)",
   "language": "python",
   "name": "tensorflow"
  },
  "language_info": {
   "codemirror_mode": {
    "name": "ipython",
    "version": 3
   },
   "file_extension": ".py",
   "mimetype": "text/x-python",
   "name": "python",
   "nbconvert_exporter": "python",
   "pygments_lexer": "ipython3",
   "version": "3.9.13"
  }
 },
 "nbformat": 4,
 "nbformat_minor": 5
}
