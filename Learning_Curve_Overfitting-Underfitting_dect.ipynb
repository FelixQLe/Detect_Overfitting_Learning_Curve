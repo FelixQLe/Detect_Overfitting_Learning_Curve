{
 "cells": [
  {
   "cell_type": "markdown",
   "id": "ef72ee46",
   "metadata": {},
   "source": [
    "### Learning Curves\n",
    "\n",
    "Learning Curves are plots of model learning performance over time, identify if our model was Overfitting or Underfitting. \n",
    "\n",
    "After a number of iterations, the training error is getting better, however. the validation error is not improving, that a clear sign that the model is overfitting. If Validation and training error high, then the model is Underfitting."
   ]
  },
  {
   "cell_type": "markdown",
   "id": "fc68ef69",
   "metadata": {},
   "source": [
    "We will build regression model predicts the hourly electrical energy output of power plant. \n",
    "Data used come from https://archive.ics.uci.edu/ml/datasets/combined+cycle+power+plant\n"
   ]
  },
  {
   "cell_type": "code",
   "execution_count": 2,
   "id": "9c891a81",
   "metadata": {},
   "outputs": [],
   "source": [
    "#importing python package\n",
    "import pandas as pd\n",
    "from sklearn.linear_model import LinearRegression\n",
    "from sklearn.model_selection import learning_curve"
   ]
  },
  {
   "cell_type": "code",
   "execution_count": 3,
   "id": "472aabc4",
   "metadata": {},
   "outputs": [
    {
     "name": "stdout",
     "output_type": "stream",
     "text": [
      "<class 'pandas.core.frame.DataFrame'>\n",
      "RangeIndex: 9568 entries, 0 to 9567\n",
      "Data columns (total 5 columns):\n",
      " #   Column  Non-Null Count  Dtype  \n",
      "---  ------  --------------  -----  \n",
      " 0   AT      9568 non-null   float64\n",
      " 1   V       9568 non-null   float64\n",
      " 2   AP      9568 non-null   float64\n",
      " 3   RH      9568 non-null   float64\n",
      " 4   PE      9568 non-null   float64\n",
      "dtypes: float64(5)\n",
      "memory usage: 373.9 KB\n"
     ]
    }
   ],
   "source": [
    "#reading data\n",
    "electric_outputs = pd.read_excel('CCPP/Folds5x2_pp.xlsx')\n",
    "electric_outputs.info()"
   ]
  },
  {
   "cell_type": "code",
   "execution_count": 4,
   "id": "b84ed382",
   "metadata": {},
   "outputs": [
    {
     "data": {
      "text/html": [
       "<div>\n",
       "<style scoped>\n",
       "    .dataframe tbody tr th:only-of-type {\n",
       "        vertical-align: middle;\n",
       "    }\n",
       "\n",
       "    .dataframe tbody tr th {\n",
       "        vertical-align: top;\n",
       "    }\n",
       "\n",
       "    .dataframe thead th {\n",
       "        text-align: right;\n",
       "    }\n",
       "</style>\n",
       "<table border=\"1\" class=\"dataframe\">\n",
       "  <thead>\n",
       "    <tr style=\"text-align: right;\">\n",
       "      <th></th>\n",
       "      <th>AT</th>\n",
       "      <th>V</th>\n",
       "      <th>AP</th>\n",
       "      <th>RH</th>\n",
       "      <th>PE</th>\n",
       "    </tr>\n",
       "  </thead>\n",
       "  <tbody>\n",
       "    <tr>\n",
       "      <th>0</th>\n",
       "      <td>14.96</td>\n",
       "      <td>41.76</td>\n",
       "      <td>1024.07</td>\n",
       "      <td>73.17</td>\n",
       "      <td>463.26</td>\n",
       "    </tr>\n",
       "    <tr>\n",
       "      <th>1</th>\n",
       "      <td>25.18</td>\n",
       "      <td>62.96</td>\n",
       "      <td>1020.04</td>\n",
       "      <td>59.08</td>\n",
       "      <td>444.37</td>\n",
       "    </tr>\n",
       "    <tr>\n",
       "      <th>2</th>\n",
       "      <td>5.11</td>\n",
       "      <td>39.40</td>\n",
       "      <td>1012.16</td>\n",
       "      <td>92.14</td>\n",
       "      <td>488.56</td>\n",
       "    </tr>\n",
       "    <tr>\n",
       "      <th>3</th>\n",
       "      <td>20.86</td>\n",
       "      <td>57.32</td>\n",
       "      <td>1010.24</td>\n",
       "      <td>76.64</td>\n",
       "      <td>446.48</td>\n",
       "    </tr>\n",
       "    <tr>\n",
       "      <th>4</th>\n",
       "      <td>10.82</td>\n",
       "      <td>37.50</td>\n",
       "      <td>1009.23</td>\n",
       "      <td>96.62</td>\n",
       "      <td>473.90</td>\n",
       "    </tr>\n",
       "  </tbody>\n",
       "</table>\n",
       "</div>"
      ],
      "text/plain": [
       "      AT      V       AP     RH      PE\n",
       "0  14.96  41.76  1024.07  73.17  463.26\n",
       "1  25.18  62.96  1020.04  59.08  444.37\n",
       "2   5.11  39.40  1012.16  92.14  488.56\n",
       "3  20.86  57.32  1010.24  76.64  446.48\n",
       "4  10.82  37.50  1009.23  96.62  473.90"
      ]
     },
     "execution_count": 4,
     "metadata": {},
     "output_type": "execute_result"
    }
   ],
   "source": [
    "electric_outputs.head(5)"
   ]
  },
  {
   "cell_type": "code",
   "execution_count": 5,
   "id": "5777c617",
   "metadata": {},
   "outputs": [],
   "source": [
    "#let update column names of those Abbreviation by full name\n",
    "electric_outputs.rename(columns={'AT': 'Ambiental Temp', 'V': 'Exhaust Vacuum',\n",
    "                                'AP': 'Ambiental Pressure', 'RH': 'Relavite Humid',\n",
    "                                'PE': 'Electrical Energy Output'}, inplace=True)"
   ]
  },
  {
   "cell_type": "code",
   "execution_count": 6,
   "id": "28c6bde1",
   "metadata": {},
   "outputs": [
    {
     "data": {
      "text/html": [
       "<div>\n",
       "<style scoped>\n",
       "    .dataframe tbody tr th:only-of-type {\n",
       "        vertical-align: middle;\n",
       "    }\n",
       "\n",
       "    .dataframe tbody tr th {\n",
       "        vertical-align: top;\n",
       "    }\n",
       "\n",
       "    .dataframe thead th {\n",
       "        text-align: right;\n",
       "    }\n",
       "</style>\n",
       "<table border=\"1\" class=\"dataframe\">\n",
       "  <thead>\n",
       "    <tr style=\"text-align: right;\">\n",
       "      <th></th>\n",
       "      <th>Ambiental Temp</th>\n",
       "      <th>Exhaust Vacuum</th>\n",
       "      <th>Ambiental Pressure</th>\n",
       "      <th>Relavite Humid</th>\n",
       "      <th>Electrical Energy Output</th>\n",
       "    </tr>\n",
       "  </thead>\n",
       "  <tbody>\n",
       "    <tr>\n",
       "      <th>0</th>\n",
       "      <td>14.96</td>\n",
       "      <td>41.76</td>\n",
       "      <td>1024.07</td>\n",
       "      <td>73.17</td>\n",
       "      <td>463.26</td>\n",
       "    </tr>\n",
       "    <tr>\n",
       "      <th>1</th>\n",
       "      <td>25.18</td>\n",
       "      <td>62.96</td>\n",
       "      <td>1020.04</td>\n",
       "      <td>59.08</td>\n",
       "      <td>444.37</td>\n",
       "    </tr>\n",
       "    <tr>\n",
       "      <th>2</th>\n",
       "      <td>5.11</td>\n",
       "      <td>39.40</td>\n",
       "      <td>1012.16</td>\n",
       "      <td>92.14</td>\n",
       "      <td>488.56</td>\n",
       "    </tr>\n",
       "    <tr>\n",
       "      <th>3</th>\n",
       "      <td>20.86</td>\n",
       "      <td>57.32</td>\n",
       "      <td>1010.24</td>\n",
       "      <td>76.64</td>\n",
       "      <td>446.48</td>\n",
       "    </tr>\n",
       "    <tr>\n",
       "      <th>4</th>\n",
       "      <td>10.82</td>\n",
       "      <td>37.50</td>\n",
       "      <td>1009.23</td>\n",
       "      <td>96.62</td>\n",
       "      <td>473.90</td>\n",
       "    </tr>\n",
       "  </tbody>\n",
       "</table>\n",
       "</div>"
      ],
      "text/plain": [
       "   Ambiental Temp  Exhaust Vacuum  Ambiental Pressure  Relavite Humid  \\\n",
       "0           14.96           41.76             1024.07           73.17   \n",
       "1           25.18           62.96             1020.04           59.08   \n",
       "2            5.11           39.40             1012.16           92.14   \n",
       "3           20.86           57.32             1010.24           76.64   \n",
       "4           10.82           37.50             1009.23           96.62   \n",
       "\n",
       "   Electrical Energy Output  \n",
       "0                    463.26  \n",
       "1                    444.37  \n",
       "2                    488.56  \n",
       "3                    446.48  \n",
       "4                    473.90  "
      ]
     },
     "execution_count": 6,
     "metadata": {},
     "output_type": "execute_result"
    }
   ],
   "source": [
    "electric_outputs.head(5)"
   ]
  },
  {
   "cell_type": "code",
   "execution_count": 7,
   "id": "b20d106f",
   "metadata": {},
   "outputs": [],
   "source": [
    "#training size for generating the learning curves, \n",
    "#maximum size must less than equal to training set 80% of dataset\n",
    "#its good practice to limit to 5-10 training sizes\n",
    "training_sizes = [1, 100, 500, 2000, 5000, 7650]"
   ]
  },
  {
   "cell_type": "code",
   "execution_count": 8,
   "id": "c493fcaa",
   "metadata": {},
   "outputs": [],
   "source": [
    "#independent variables and target\n",
    "features = list(electric_outputs.drop(columns=\"Electrical Energy Output\").columns)\n",
    "target = \"Electrical Energy Output\"\n",
    "#implement learning from imported python package\n",
    "train_sizes, train_scores, validation_scores = learning_curve(\n",
    "                                    estimator=LinearRegression(),#using Linear Regression as learning algorithm\n",
    "                                    X = electric_outputs[features],# dataset excluded target\n",
    "                                    y = electric_outputs[target],#target variable\n",
    "                                    train_sizes=training_sizes,\n",
    "                                    cv = 5, #determines cross-validation splitting strategy\n",
    "                                    scoring='neg_mean_squared_error', #error metric evaluation\n",
    "                                    )"
   ]
  },
  {
   "cell_type": "code",
   "execution_count": 9,
   "id": "b64c5108",
   "metadata": {},
   "outputs": [
    {
     "name": "stdout",
     "output_type": "stream",
     "text": [
      "Training scores:\n",
      "\n",
      " [[ -0.          -0.          -0.          -0.          -0.        ]\n",
      " [-19.71230701 -18.31492642 -18.31492642 -18.31492642 -18.31492642]\n",
      " [-18.14420459 -19.63885072 -19.63885072 -19.63885072 -19.63885072]\n",
      " [-21.53603444 -20.18568787 -19.98317419 -19.98317419 -19.98317419]\n",
      " [-20.47708899 -19.93364211 -20.56091569 -20.4150839  -20.4150839 ]\n",
      " [-20.98600946 -20.63033618 -21.04415862 -20.63671622 -20.52664106]]\n",
      "\n",
      " ----------------------------------------------------------------------\n",
      "\n",
      "Validation scores:\n",
      "\n",
      " [[-619.30514723 -379.81090366 -374.4107861  -370.03037109 -373.30597982]\n",
      " [ -21.80224219  -23.01103419  -20.81350389  -22.88459236  -23.44955492]\n",
      " [ -19.96005238  -21.2771561   -19.75136596  -21.4325615   -21.89067652]\n",
      " [ -19.92863783  -21.35440062  -19.62974239  -21.38631648  -21.811031  ]\n",
      " [ -19.88806264  -21.3183303   -19.68228562  -21.35019525  -21.75949097]\n",
      " [ -19.9043932   -21.33368364  -19.67839166  -21.31982496  -21.73829523]]\n"
     ]
    }
   ],
   "source": [
    "#exam the training score, and validation scores\n",
    "print('Training scores:\\n\\n', train_scores)\n",
    "print('\\n', '-' * 70) # separator to make the output easy to read\n",
    "print('\\nValidation scores:\\n\\n', validation_scores)"
   ]
  },
  {
   "cell_type": "markdown",
   "id": "e47338b0",
   "metadata": {},
   "source": [
    "We have 6 lists in every list trainning scores and validation scores, indicates 6 training set sizes we set above, and we also set 5 k-fold for cross-validation metric."
   ]
  },
  {
   "cell_type": "code",
   "execution_count": 10,
   "id": "c6cb4e18",
   "metadata": {},
   "outputs": [
    {
     "name": "stdout",
     "output_type": "stream",
     "text": [
      "Mean training scores\n",
      "\n",
      " 1       -0.000000\n",
      "100     18.594403\n",
      "500     19.339921\n",
      "2000    20.334249\n",
      "5000    20.360363\n",
      "7650    20.764772\n",
      "dtype: float64\n",
      "\n",
      " --------------------\n",
      "\n",
      "Mean validation scores\n",
      "\n",
      " 1       423.372638\n",
      "100      22.392186\n",
      "500      20.862362\n",
      "2000     20.822026\n",
      "5000     20.799673\n",
      "7650     20.794918\n",
      "dtype: float64\n"
     ]
    }
   ],
   "source": [
    "#plotting learning curves using single error score per training size\n",
    "train_scores_mean = -train_scores.mean(axis = 1) #using positive values to plot\n",
    "validation_scores_mean = -validation_scores.mean(axis = 1)\n",
    "print('Mean training scores\\n\\n', pd.Series(train_scores_mean, index = train_sizes))\n",
    "print('\\n', '-' * 20) # separator\n",
    "print('\\nMean validation scores\\n\\n',pd.Series(validation_scores_mean, index = train_sizes))"
   ]
  },
  {
   "cell_type": "markdown",
   "id": "43cbcae8",
   "metadata": {},
   "source": [
    "#### Learning curves – high bias and low variance"
   ]
  },
  {
   "cell_type": "code",
   "execution_count": 1,
   "id": "c4a64a53",
   "metadata": {},
   "outputs": [
    {
     "ename": "NameError",
     "evalue": "name 'train_sizes' is not defined",
     "output_type": "error",
     "traceback": [
      "\u001b[0;31m---------------------------------------------------------------------------\u001b[0m",
      "\u001b[0;31mNameError\u001b[0m                                 Traceback (most recent call last)",
      "Cell \u001b[0;32mIn [1], line 5\u001b[0m\n\u001b[1;32m      2\u001b[0m \u001b[38;5;28;01mimport\u001b[39;00m \u001b[38;5;21;01mmatplotlib\u001b[39;00m\u001b[38;5;21;01m.\u001b[39;00m\u001b[38;5;21;01mpyplot\u001b[39;00m \u001b[38;5;28;01mas\u001b[39;00m \u001b[38;5;21;01mplt\u001b[39;00m\n\u001b[1;32m      4\u001b[0m plt\u001b[38;5;241m.\u001b[39mstyle\u001b[38;5;241m.\u001b[39muse(\u001b[38;5;124m'\u001b[39m\u001b[38;5;124mseaborn-v0_8-whitegrid\u001b[39m\u001b[38;5;124m'\u001b[39m)\n\u001b[0;32m----> 5\u001b[0m plt\u001b[38;5;241m.\u001b[39mplot(\u001b[43mtrain_sizes\u001b[49m, train_scores_mean, label \u001b[38;5;241m=\u001b[39m \u001b[38;5;124m'\u001b[39m\u001b[38;5;124mTraining error\u001b[39m\u001b[38;5;124m'\u001b[39m)\n\u001b[1;32m      6\u001b[0m plt\u001b[38;5;241m.\u001b[39mplot(train_sizes, validation_scores_mean, label \u001b[38;5;241m=\u001b[39m \u001b[38;5;124m'\u001b[39m\u001b[38;5;124mValidation error\u001b[39m\u001b[38;5;124m'\u001b[39m)\n\u001b[1;32m      7\u001b[0m plt\u001b[38;5;241m.\u001b[39mylabel(\u001b[38;5;124m'\u001b[39m\u001b[38;5;124mMSE\u001b[39m\u001b[38;5;124m'\u001b[39m, fontsize \u001b[38;5;241m=\u001b[39m \u001b[38;5;241m14\u001b[39m)\n",
      "\u001b[0;31mNameError\u001b[0m: name 'train_sizes' is not defined"
     ]
    }
   ],
   "source": [
    "#plot the learning curves using matplotlib\n",
    "import matplotlib.pyplot as plt\n",
    "\n",
    "plt.style.use('seaborn-v0_8-whitegrid')\n",
    "plt.plot(train_sizes, train_scores_mean, label = 'Training error')\n",
    "plt.plot(train_sizes, validation_scores_mean, label = 'Validation error')\n",
    "plt.ylabel('MSE', fontsize = 14)\n",
    "plt.xlabel('Training set size', fontsize = 14)\n",
    "plt.title('Learning curves for a linear regression model', fontsize = 18, y = 1.03)\n",
    "plt.legend()\n",
    "plt.ylim(0,40)"
   ]
  },
  {
   "cell_type": "markdown",
   "id": "2b2827ab",
   "metadata": {},
   "source": [
    "#### Interpreting\n",
    "- training error started to increase gradually to 500 training set size, and increase lightly afterward, indicating addition of more training examples doesn’t improve the model performance on training data.\n",
    "- validation error started to decrease gradually to 500 training set size, and started to increase lightly along with training error, indicating addition of more training examples doesn’t improve the model performance on unseen data.\n",
    "- These indicate our model is underfitting\n",
    "\n",
    "### Typical features of the learning curve of an underfit model\n",
    "- Increasing training loss upon adding training examples.\n",
    "- Training loss and validation loss are close to each other at the end.\n",
    "- Sudden dip in the training loss and validation loss at the end (not always)."
   ]
  },
  {
   "cell_type": "markdown",
   "id": "8559835b",
   "metadata": {},
   "source": [
    "### Learning curves – low bias and high variance"
   ]
  },
  {
   "cell_type": "code",
   "execution_count": 14,
   "id": "f54c8a0d",
   "metadata": {},
   "outputs": [
    {
     "data": {
      "image/png": "[encoded data removed]",
      "text/plain": [
       "<Figure size 1600x500 with 2 Axes>"
      ]
     },
     "metadata": {},
     "output_type": "display_data"
    }
   ],
   "source": [
    "### Bundling our previous work into a function ###\n",
    "def learning_curves(estimator, data, features, target, train_sizes, cv):\n",
    "    train_sizes, train_scores, validation_scores = learning_curve(\n",
    "    estimator, data[features], data[target], train_sizes =\n",
    "    train_sizes,\n",
    "    cv = cv, scoring = 'neg_mean_squared_error')\n",
    "    train_scores_mean = -train_scores.mean(axis = 1)\n",
    "    validation_scores_mean = -validation_scores.mean(axis = 1)\n",
    "\n",
    "    plt.plot(train_sizes, train_scores_mean, label = 'Training error')\n",
    "    plt.plot(train_sizes, validation_scores_mean, label = 'Validation error')\n",
    "\n",
    "    plt.ylabel('MSE', fontsize = 14)\n",
    "    plt.xlabel('Training set size', fontsize = 14)\n",
    "    title = 'Learning curves for a ' + str(estimator).split('(')[0] + ' model'\n",
    "    plt.title(title, fontsize = 18, y = 1.03)\n",
    "    plt.legend()\n",
    "    plt.ylim(0,40)\n",
    "\n",
    "### Plotting the two learning curves ###\n",
    "\n",
    "from sklearn.ensemble import RandomForestRegressor\n",
    "\n",
    "plt.figure(figsize = (16,5))\n",
    "\n",
    "for model, i in [(RandomForestRegressor(), 1), (LinearRegression(),2)]:\n",
    "    plt.subplot(1,2,i)\n",
    "    learning_curves(model, electric_outputs, features, target, train_sizes, 5)"
   ]
  },
  {
   "cell_type": "markdown",
   "id": "fef99604",
   "metadata": {},
   "source": [
    "### Interpreting\n",
    "We were able to decrease the validation error which lowered the bias in our model, not as much mas before. we can see typical features of the learning curve of an overfitting model in our model above (performs well on the training set, but far poorer on the test or validation set)\n",
    "\n",
    "- Training loss and Validation loss are far away from each other.\n",
    "- Gradually decreasing validation loss (without flattening) upon adding training examples.\n",
    "- Very low training loss that’s very slightly increasing upon adding training examples.\n",
    "\n",
    "\n",
    "There are some ways we could do to improve our model:\n",
    "- Collect and add more data points.\n",
    "- influence the regularization for our current learning algorithm. This should decrease the variance and increase the bias.\n",
    "- Reducing the numbers of features or variable in the data, our model will be less complex and should increase the bias and decrease the variance."
   ]
  },
  {
   "cell_type": "markdown",
   "id": "08a2182c",
   "metadata": {},
   "source": []
  }
 ],
 "metadata": {
  "kernelspec": {
   "display_name": "Python 3.9 (tensorflow)",
   "language": "python",
   "name": "tensorflow"
  },
  "language_info": {
   "codemirror_mode": {
    "name": "ipython",
    "version": 3
   },
   "file_extension": ".py",
   "mimetype": "text/x-python",
   "name": "python",
   "nbconvert_exporter": "python",
   "pygments_lexer": "ipython3",
   "version": "3.9.13"
  }
 },
 "nbformat": 4,
 "nbformat_minor": 5
}
